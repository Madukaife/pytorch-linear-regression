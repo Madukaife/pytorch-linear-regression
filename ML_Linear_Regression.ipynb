{
  "nbformat": 4,
  "nbformat_minor": 0,
  "metadata": {
    "colab": {
      "provenance": [],
      "authorship_tag": "ABX9TyPPoPZISOTlWdUIbjpUlbGP",
      "include_colab_link": true
    },
    "kernelspec": {
      "name": "python3",
      "display_name": "Python 3"
    },
    "language_info": {
      "name": "python"
    }
  },
  "cells": [
    {
      "cell_type": "markdown",
      "metadata": {
        "id": "view-in-github",
        "colab_type": "text"
      },
      "source": [
        "<a href=\"https://colab.research.google.com/github/Madukaife/pytorch-linear-regression/blob/main/ML_Linear_Regression.ipynb\" target=\"_parent\"><img src=\"https://colab.research.google.com/assets/colab-badge.svg\" alt=\"Open In Colab\"/></a>"
      ]
    },
    {
      "cell_type": "code",
      "execution_count": null,
      "metadata": {
        "id": "8n1rRcD4LtOJ"
      },
      "outputs": [],
      "source": []
    },
    {
      "cell_type": "markdown",
      "source": [
        "#Project overview:\n",
        "##1. get data and turn it into Tensors\n",
        "##2. build a model (loss function & optimizer, training loop)\n",
        "##3. Fit model\n",
        "##4. Evaluate/Train Model\n",
        "#5. Improve model via Epochs\n",
        "##6. save and load trianed model\n"
      ],
      "metadata": {
        "id": "cnW2j1gFfZRg"
      }
    },
    {
      "cell_type": "code",
      "source": [
        "#import PyTorch and other dependencies\n",
        "import torch\n",
        "from torch import nn\n",
        "import matplotlib.pyplot as plt\n",
        "\n",
        "#confirming PyTorch version\n",
        "torch. __version__"
      ],
      "metadata": {
        "colab": {
          "base_uri": "https://localhost:8080/",
          "height": 35
        },
        "id": "xbPsg7FGhgeA",
        "outputId": "f54b614b-3d8d-41e9-d1f0-e7a406bf80a3"
      },
      "execution_count": null,
      "outputs": [
        {
          "output_type": "execute_result",
          "data": {
            "text/plain": [
              "'2.3.0+cu121'"
            ],
            "application/vnd.google.colaboratory.intrinsic+json": {
              "type": "string"
            }
          },
          "metadata": {},
          "execution_count": 3
        }
      ]
    },
    {
      "cell_type": "code",
      "source": [
        "#setup device agnostic code\n",
        "device = \"cuda\" if torch.cuda.is_available() else \"cpu\"\n",
        "print (f\" the device is using: {device}\")\n"
      ],
      "metadata": {
        "colab": {
          "base_uri": "https://localhost:8080/"
        },
        "id": "WtRCcikZixsN",
        "outputId": "d957cb19-251f-4f3f-90b7-d9adcbe2d15a"
      },
      "execution_count": null,
      "outputs": [
        {
          "output_type": "stream",
          "name": "stdout",
          "text": [
            " the device is using: cpu\n"
          ]
        }
      ]
    },
    {
      "cell_type": "code",
      "source": [
        "#creating a dummy dataset\n",
        "#linear regression formula will be used: Y(label/output) = weight * X(feature/input) + bias\n",
        "# y = mx + c   linear equation formular\n",
        "\n",
        "weight = 0.7\n",
        "bias = 0.3\n",
        "\n",
        "#create range values\n",
        "start = 0\n",
        "end  = 1\n",
        "step = 0.02\n",
        "\n",
        "#creating x and y\n",
        "x = torch.arange(start, end, step).unsqueeze(dim =1) #withouth unsqueeze, errors will pop up\n",
        "y = weight * x + bias\n",
        "x[:10], y[:10]\n"
      ],
      "metadata": {
        "colab": {
          "base_uri": "https://localhost:8080/"
        },
        "id": "qf_vgB0xxPUR",
        "outputId": "5b0ec7a8-56cb-43f0-9d79-c44acf287848"
      },
      "execution_count": null,
      "outputs": [
        {
          "output_type": "execute_result",
          "data": {
            "text/plain": [
              "(tensor([[0.0000],\n",
              "         [0.0200],\n",
              "         [0.0400],\n",
              "         [0.0600],\n",
              "         [0.0800],\n",
              "         [0.1000],\n",
              "         [0.1200],\n",
              "         [0.1400],\n",
              "         [0.1600],\n",
              "         [0.1800]]),\n",
              " tensor([[0.3000],\n",
              "         [0.3140],\n",
              "         [0.3280],\n",
              "         [0.3420],\n",
              "         [0.3560],\n",
              "         [0.3700],\n",
              "         [0.3840],\n",
              "         [0.3980],\n",
              "         [0.4120],\n",
              "         [0.4260]]))"
            ]
          },
          "metadata": {},
          "execution_count": 5
        }
      ]
    },
    {
      "cell_type": "code",
      "source": [
        "#splitting the data\n",
        "train_split = int(0.8 * len(x))\n",
        "x_train, y_train = x[:train_split], y[:train_split]\n",
        "x_test, y_test = x[train_split:], y[train_split:]\n",
        "len(x_train), len(y_train), len(x_test), len(y_test)\n"
      ],
      "metadata": {
        "colab": {
          "base_uri": "https://localhost:8080/"
        },
        "id": "xC3KO6Al1I5I",
        "outputId": "0db562de-2068-4c1f-8b9d-6bc8c8050c27"
      },
      "execution_count": null,
      "outputs": [
        {
          "output_type": "execute_result",
          "data": {
            "text/plain": [
              "(40, 40, 10, 10)"
            ]
          },
          "metadata": {},
          "execution_count": 6
        }
      ]
    },
    {
      "cell_type": "code",
      "source": [
        "#plotting the data\n",
        "\n",
        "#plot prediction function\n",
        "def plot_predictions(train_data = x_train,\n",
        "                     train_labels = y_train,\n",
        "                     test_data = x_test,\n",
        "                     test_labels =y_test,\n",
        "                     predictions = None):\n",
        "  \"\"\"plots training data, test data and compare predictions.\"\"\"\n",
        "  plt.figure(figsize = (10, 7))\n",
        "\n",
        "#plot traing data in blue\n",
        "  plt.scatter(train_data, train_labels, c =\"b\", s=4, label = \"Training data\")\n",
        "\n",
        "#plot test data in red\n",
        "  plt.scatter(test_data, test_labels, c=\"r\", s =4, label =\"Testing data\")\n",
        "\n",
        "#confirm if there is predictions\n",
        "  if predictions is not None:\n",
        "   plt.scatter(test_data, predictions, c = \"y\", s =4, label = \"predictions\")\n",
        "\n",
        "#show the legend\n",
        "#plt.legend(prop = {\"size\": 14});\n"
      ],
      "metadata": {
        "id": "5TCaEhe4L_Mc"
      },
      "execution_count": null,
      "outputs": []
    },
    {
      "cell_type": "code",
      "source": [
        "#plot the data\n",
        "plot_predictions(x_train, y_train, x_test, y_test)\n"
      ],
      "metadata": {
        "colab": {
          "base_uri": "https://localhost:8080/",
          "height": 599
        },
        "id": "iDnezEO5MRIR",
        "outputId": "024e702e-20c1-4ab6-d513-694b458f5603"
      },
      "execution_count": null,
      "outputs": [
        {
          "output_type": "display_data",
          "data": {
            "text/plain": [
              "<Figure size 1000x700 with 1 Axes>"
            ],
            "image/png": "[encoded data removed]"
          },
          "metadata": {}
        }
      ]
    },
    {
      "cell_type": "code",
      "source": [
        "# #creating a linear regression model class manually\n",
        "# # building a linear model by subclassing nn.module with nn.parameter\n",
        "# class LinearRegressionModel(nn.Module):\n",
        "#   def __init__(self):\n",
        "#     super().__init__()\n",
        "#     self.weights = nn.Parameter(torch.randn(1,\n",
        "#                                             requires_grad = True,\n",
        "#                                             dtype = torch.float))\n",
        "\n",
        "#     self.bias = nn.Parameter(torch.randn(1,\n",
        "#                                             requires_grad = True,\n",
        "#                                             dtype = torch.float))\n",
        "\n",
        "#     #forward method to define the computation in the model\n",
        "#   def forward(self, x: torch.Tensor)-> torch.Tensor:\n",
        "#       return self.weights * x + self.bias\n",
        "\n",
        "# #set the manual_seed\n",
        "# torch.manual_seed(42)\n",
        "# model_1 = LinearRegressionModel()\n",
        "# model_1, model_1.state_dict()\n"
      ],
      "metadata": {
        "id": "m_lhW3WnPlwW"
      },
      "execution_count": null,
      "outputs": []
    },
    {
      "cell_type": "code",
      "source": [
        "##creating a linear regression model class using nn.module\n",
        "# building a linear model by subclassing nn.module with nn.linear\n",
        "class LinearRegressionModelV1(nn.Module):\n",
        "  def __init__ (self):\n",
        "    super().__init__()\n",
        "    #use nn.Linear() to creat the model parameters just like the linear regreeion class created above\n",
        "    self.linear_layer = nn.Linear(in_features=1,\n",
        "                                  out_features = 1)\n",
        "\n",
        "    #forward method to define the computation in the model\n",
        "  def forward(self, x: torch.Tensor)-> torch.Tensor:\n",
        "      return self.linear_layer(x)\n",
        "\n",
        "      #set the manual_seed\n",
        "torch.manual_seed(42)\n",
        "model_1 = LinearRegressionModelV1()\n",
        "model_1, model_1.state_dict()"
      ],
      "metadata": {
        "colab": {
          "base_uri": "https://localhost:8080/"
        },
        "id": "hDhThqv_NmvB",
        "outputId": "57df5c2d-ae2d-4790-8de5-ee8ecbbf1af3"
      },
      "execution_count": null,
      "outputs": [
        {
          "output_type": "execute_result",
          "data": {
            "text/plain": [
              "(LinearRegressionModelV1(\n",
              "   (linear_layer): Linear(in_features=1, out_features=1, bias=True)\n",
              " ),\n",
              " OrderedDict([('linear_layer.weight', tensor([[0.7645]])),\n",
              "              ('linear_layer.bias', tensor([0.8300]))]))"
            ]
          },
          "metadata": {},
          "execution_count": 10
        }
      ]
    },
    {
      "cell_type": "code",
      "source": [
        "# #check model current device\n",
        "# next(model_1.parameters()).device"
      ],
      "metadata": {
        "id": "pQiOXYo3Azmp"
      },
      "execution_count": null,
      "outputs": []
    },
    {
      "cell_type": "code",
      "source": [
        "#To set our model to use GPU,\n",
        "model_1.to(device)\n",
        "next(model_1.parameters()).device"
      ],
      "metadata": {
        "colab": {
          "base_uri": "https://localhost:8080/"
        },
        "id": "K7v9XBVmBQGO",
        "outputId": "067816a9-a9e1-4b9c-9009-f5642ebe9009"
      },
      "execution_count": null,
      "outputs": [
        {
          "output_type": "execute_result",
          "data": {
            "text/plain": [
              "device(type='cpu')"
            ]
          },
          "metadata": {},
          "execution_count": 12
        }
      ]
    },
    {
      "cell_type": "code",
      "source": [
        "#Training the Model\n",
        "#we need: 1. loss function, 2. optimizer, 3. training loop, 4. Testing loop\n",
        "\n",
        "#Loss FUnction\n",
        "loss_fn = nn.L1Loss()  # same as MAE\n",
        "\n",
        "#Optimizer\n",
        "optimizer = torch.optim.SGD(params = model_1.parameters(),\n",
        "                            lr = 0.01)\n",
        "\n",
        "#training loop\n",
        "torch.manual_seed(42)\n",
        "\n",
        "epochs = 200\n",
        "\n",
        "\n",
        "#write device agnostic code for data\n",
        "x_train = x_train.to(device)\n",
        "y_train = y_train.to(device)\n",
        "x_test = x_test.to(device)\n",
        "y_test = y_test.to(device)\n",
        "\n",
        "\n",
        "for epoch in range(epochs):\n",
        "  model_1.train()\n",
        "\n",
        "#i. Forward pass\n",
        "  y_pred = model_1(x_train)\n",
        "\n",
        "#ii. calculate the loss\n",
        "  loss = loss_fn(y_pred, y_train)\n",
        "\n",
        "#iii. zero the optimizer\n",
        "  optimizer.zero_grad()\n",
        "\n",
        "#iv. perform back propagation\n",
        "  loss.backward()\n",
        "\n",
        "#v. optimizer step\n",
        "  optimizer.step()\n",
        "\n",
        "\n",
        "\n",
        "#Testing\n",
        "  model_1.eval()\n",
        "  with torch.inference_mode():\n",
        "    test_pred = model_1(x_test)\n",
        "\n",
        "    test_loss = loss_fn(test_pred, y_test)\n",
        "\n",
        "\n",
        "  if epoch % 10 == 0:\n",
        "    print (f\"Epoch: {epoch} | Loss: {loss} | Test loss: {test_loss}\")\n",
        "\n"
      ],
      "metadata": {
        "id": "Xbj2yNtXUj-5",
        "colab": {
          "base_uri": "https://localhost:8080/"
        },
        "outputId": "3025ba1f-6575-4f47-c8eb-646c18a060a4"
      },
      "execution_count": null,
      "outputs": [
        {
          "output_type": "stream",
          "name": "stdout",
          "text": [
            "Epoch: 0 | Loss: 0.5551779866218567 | Test loss: 0.5739762187004089\n",
            "Epoch: 10 | Loss: 0.4399680495262146 | Test loss: 0.4392663538455963\n",
            "Epoch: 20 | Loss: 0.3247582018375397 | Test loss: 0.30455657839775085\n",
            "Epoch: 30 | Loss: 0.20954827964305878 | Test loss: 0.16984674334526062\n",
            "Epoch: 40 | Loss: 0.09433844685554504 | Test loss: 0.03513689711689949\n",
            "Epoch: 50 | Loss: 0.023886386305093765 | Test loss: 0.04784906655550003\n",
            "Epoch: 60 | Loss: 0.0199567973613739 | Test loss: 0.04580312222242355\n",
            "Epoch: 70 | Loss: 0.016517987474799156 | Test loss: 0.0375305712223053\n",
            "Epoch: 80 | Loss: 0.013089170679450035 | Test loss: 0.029944902285933495\n",
            "Epoch: 90 | Loss: 0.009653178043663502 | Test loss: 0.02167237363755703\n",
            "Epoch: 100 | Loss: 0.006215679459273815 | Test loss: 0.014086711220443249\n",
            "Epoch: 110 | Loss: 0.002787243574857712 | Test loss: 0.005814164876937866\n",
            "Epoch: 120 | Loss: 0.0012645035749301314 | Test loss: 0.013801807537674904\n",
            "Epoch: 130 | Loss: 0.0012645035749301314 | Test loss: 0.013801807537674904\n",
            "Epoch: 140 | Loss: 0.0012645035749301314 | Test loss: 0.013801807537674904\n",
            "Epoch: 150 | Loss: 0.0012645035749301314 | Test loss: 0.013801807537674904\n",
            "Epoch: 160 | Loss: 0.0012645035749301314 | Test loss: 0.013801807537674904\n",
            "Epoch: 170 | Loss: 0.0012645035749301314 | Test loss: 0.013801807537674904\n",
            "Epoch: 180 | Loss: 0.0012645035749301314 | Test loss: 0.013801807537674904\n",
            "Epoch: 190 | Loss: 0.0012645035749301314 | Test loss: 0.013801807537674904\n"
          ]
        }
      ]
    },
    {
      "cell_type": "code",
      "source": [
        "model_1.state_dict()"
      ],
      "metadata": {
        "colab": {
          "base_uri": "https://localhost:8080/"
        },
        "id": "nEYyx_QvU4Rw",
        "outputId": "38a86b89-3f3e-4d74-c728-208d3fd77d16"
      },
      "execution_count": null,
      "outputs": [
        {
          "output_type": "execute_result",
          "data": {
            "text/plain": [
              "OrderedDict([('linear_layer.weight', tensor([[0.6968]])),\n",
              "             ('linear_layer.bias', tensor([0.3025]))])"
            ]
          },
          "metadata": {},
          "execution_count": 14
        }
      ]
    },
    {
      "cell_type": "code",
      "source": [
        "weight, bias"
      ],
      "metadata": {
        "colab": {
          "base_uri": "https://localhost:8080/"
        },
        "id": "joU5Gq1KTDqO",
        "outputId": "bc61224a-3c5b-45e8-d14b-a6e96071bd9b"
      },
      "execution_count": null,
      "outputs": [
        {
          "output_type": "execute_result",
          "data": {
            "text/plain": [
              "(0.7, 0.3)"
            ]
          },
          "metadata": {},
          "execution_count": 15
        }
      ]
    },
    {
      "cell_type": "code",
      "source": [
        "#making and evaluating predictions\n",
        "\n",
        "#turn model into evaluation mode\n",
        "model_1.eval()\n",
        "\n",
        "#make predictions on the test data\n",
        "\n",
        "with torch.inference_mode():\n",
        "  y_preds = model_1(x_test)\n",
        "y_preds"
      ],
      "metadata": {
        "colab": {
          "base_uri": "https://localhost:8080/"
        },
        "id": "iN4am_j2Xfc_",
        "outputId": "d201e3ad-f343-4a03-bbc8-35948a9a97d3"
      },
      "execution_count": null,
      "outputs": [
        {
          "output_type": "execute_result",
          "data": {
            "text/plain": [
              "tensor([[0.8600],\n",
              "        [0.8739],\n",
              "        [0.8878],\n",
              "        [0.9018],\n",
              "        [0.9157],\n",
              "        [0.9296],\n",
              "        [0.9436],\n",
              "        [0.9575],\n",
              "        [0.9714],\n",
              "        [0.9854]])"
            ]
          },
          "metadata": {},
          "execution_count": 16
        }
      ]
    },
    {
      "cell_type": "code",
      "source": [
        "y_pred_cpu = test_pred.cpu().numpy()"
      ],
      "metadata": {
        "id": "SeuGEieqZMq8"
      },
      "execution_count": null,
      "outputs": []
    },
    {
      "cell_type": "code",
      "source": [
        "#visualizing our predictions\n",
        "plot_predictions(predictions = y_preds)"
      ],
      "metadata": {
        "colab": {
          "base_uri": "https://localhost:8080/",
          "height": 599
        },
        "id": "CRzu2ieWY319",
        "outputId": "5a5e51da-ecc2-43e5-daae-f4487e309d6d"
      },
      "execution_count": null,
      "outputs": [
        {
          "output_type": "display_data",
          "data": {
            "text/plain": [
              "<Figure size 1000x700 with 1 Axes>"
            ],
            "image/png": "[encoded data removed]"
          },
          "metadata": {}
        }
      ]
    },
    {
      "cell_type": "code",
      "source": [
        "#Saving and Loading Model\n",
        "\n",
        "from pathlib import Path\n",
        "# creat model directory\n",
        "MODEL_PATH = Path(\"models\")\n",
        "MODEL_PATH.mkdir(parents = True, exist_ok = True)\n",
        "\n",
        "\n",
        "#create a model save path\n",
        "MODEL_NAME = \"Pytorch_ML_1.pth\"\n",
        "MODEL_SAVE_PATH = MODEL_PATH / MODEL_NAME\n",
        "\n",
        "#Save model state dict\n",
        "\n",
        "print(f\"Saving model to: {MODEL_SAVE_PATH}\")\n",
        "torch.save(obj=model_1.state_dict(),\n",
        "           f=MODEL_SAVE_PATH)\n"
      ],
      "metadata": {
        "colab": {
          "base_uri": "https://localhost:8080/"
        },
        "id": "xxMQGBmhftjX",
        "outputId": "e299342f-e6c3-473c-89f2-de76ca3f98d0"
      },
      "execution_count": null,
      "outputs": [
        {
          "output_type": "stream",
          "name": "stdout",
          "text": [
            "Saving model to: models/Pytorch_ML_1.pth\n"
          ]
        }
      ]
    },
    {
      "cell_type": "code",
      "source": [
        "#Loading a pytorch model\n",
        "\n",
        "#create new instance\n",
        "loaded_model_1 = LinearRegressionModelV1()\n",
        "\n",
        "#load the model\n",
        "loaded_model_1.load_state_dict(torch.load(MODEL_SAVE_PATH))\n",
        "\n",
        "\n",
        "#Put the loaded model to device\n",
        "loaded_model_1.to(device)\n"
      ],
      "metadata": {
        "colab": {
          "base_uri": "https://localhost:8080/"
        },
        "id": "jxJX0SAYkDZZ",
        "outputId": "a6e4b664-302f-46ae-b7e1-8e0aace39292"
      },
      "execution_count": 26,
      "outputs": [
        {
          "output_type": "execute_result",
          "data": {
            "text/plain": [
              "LinearRegressionModelV1(\n",
              "  (linear_layer): Linear(in_features=1, out_features=1, bias=True)\n",
              ")"
            ]
          },
          "metadata": {},
          "execution_count": 26
        }
      ]
    },
    {
      "cell_type": "code",
      "source": [
        "next(loaded_model_1.parameters()).device"
      ],
      "metadata": {
        "colab": {
          "base_uri": "https://localhost:8080/"
        },
        "id": "vL2fVvfElTiF",
        "outputId": "c315769f-5641-4d5c-ec9d-785c6b5d4f91"
      },
      "execution_count": 27,
      "outputs": [
        {
          "output_type": "execute_result",
          "data": {
            "text/plain": [
              "device(type='cpu')"
            ]
          },
          "metadata": {},
          "execution_count": 27
        }
      ]
    },
    {
      "cell_type": "code",
      "source": [
        "loaded_model_1.state_dict()\n"
      ],
      "metadata": {
        "colab": {
          "base_uri": "https://localhost:8080/"
        },
        "id": "2aoNex6dljYR",
        "outputId": "ca458207-7006-4e76-8bcc-054ab8968692"
      },
      "execution_count": 28,
      "outputs": [
        {
          "output_type": "execute_result",
          "data": {
            "text/plain": [
              "OrderedDict([('linear_layer.weight', tensor([[0.6968]])),\n",
              "             ('linear_layer.bias', tensor([0.3025]))])"
            ]
          },
          "metadata": {},
          "execution_count": 28
        }
      ]
    },
    {
      "cell_type": "code",
      "source": [
        "#evalute loaded model\n",
        "\n",
        "loaded_model_1.eval()\n",
        "\n",
        "with torch.inference_mode():\n",
        "  loaded_model_1_preds = loaded_model_1(x_test)\n",
        "y_preds == loaded_model_1_preds"
      ],
      "metadata": {
        "colab": {
          "base_uri": "https://localhost:8080/"
        },
        "id": "jWyHQzYLluCd",
        "outputId": "b10be2d0-1537-4349-b596-5c10bd443cad"
      },
      "execution_count": 30,
      "outputs": [
        {
          "output_type": "execute_result",
          "data": {
            "text/plain": [
              "tensor([[True],\n",
              "        [True],\n",
              "        [True],\n",
              "        [True],\n",
              "        [True],\n",
              "        [True],\n",
              "        [True],\n",
              "        [True],\n",
              "        [True],\n",
              "        [True]])"
            ]
          },
          "metadata": {},
          "execution_count": 30
        }
      ]
    }
  ]
}